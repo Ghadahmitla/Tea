{
  "nbformat": 4,
  "nbformat_minor": 0,
  "metadata": {
    "colab": {
      "provenance": []
    },
    "kernelspec": {
      "name": "python3",
      "display_name": "Python 3"
    },
    "language_info": {
      "name": "python"
    }
  },
  "cells": [
    {
      "cell_type": "code",
      "execution_count": null,
      "metadata": {
        "colab": {
          "base_uri": "https://localhost:8080/"
        },
        "id": "_iwu5zT9wh-G",
        "outputId": "1d81850f-f173-4461-897c-29dc758b5d28"
      },
      "outputs": [
        {
          "output_type": "stream",
          "name": "stdout",
          "text": [
            "Looking in indexes: https://pypi.org/simple, https://us-python.pkg.dev/colab-wheels/public/simple/\n",
            "Requirement already satisfied: tealang in /usr/local/lib/python3.7/dist-packages (0.4.2)\n",
            "Requirement already satisfied: scipy==1.7.3 in /usr/local/lib/python3.7/dist-packages (from tealang) (1.7.3)\n",
            "Requirement already satisfied: urllib3==1.26.8 in /usr/local/lib/python3.7/dist-packages (from tealang) (1.26.8)\n",
            "Requirement already satisfied: requests==2.27.1 in /usr/local/lib/python3.7/dist-packages (from tealang) (2.27.1)\n",
            "Requirement already satisfied: bootstrapped==0.0.2 in /usr/local/lib/python3.7/dist-packages (from tealang) (0.0.2)\n",
            "Requirement already satisfied: pandas==1.3.5 in /usr/local/lib/python3.7/dist-packages (from tealang) (1.3.5)\n",
            "Requirement already satisfied: scikit-learn==1.0.2 in /usr/local/lib/python3.7/dist-packages (from tealang) (1.0.2)\n",
            "Requirement already satisfied: parameterized==0.8.1 in /usr/local/lib/python3.7/dist-packages (from tealang) (0.8.1)\n",
            "Requirement already satisfied: sympy==1.9 in /usr/local/lib/python3.7/dist-packages (from tealang) (1.9)\n",
            "Requirement already satisfied: z3-solver==4.8.14.0 in /usr/local/lib/python3.7/dist-packages (from tealang) (4.8.14.0)\n",
            "Requirement already satisfied: attrs==21.4.0 in /usr/local/lib/python3.7/dist-packages (from tealang) (21.4.0)\n",
            "Requirement already satisfied: statsmodels<0.13.0,>=0.12.2 in /usr/local/lib/python3.7/dist-packages (from tealang) (0.12.2)\n",
            "Requirement already satisfied: numpy>=1.11.1 in /usr/local/lib/python3.7/dist-packages (from bootstrapped==0.0.2->tealang) (1.21.6)\n",
            "Requirement already satisfied: matplotlib>=1.5.3 in /usr/local/lib/python3.7/dist-packages (from bootstrapped==0.0.2->tealang) (3.2.2)\n",
            "Requirement already satisfied: python-dateutil>=2.7.3 in /usr/local/lib/python3.7/dist-packages (from pandas==1.3.5->tealang) (2.8.2)\n",
            "Requirement already satisfied: pytz>=2017.3 in /usr/local/lib/python3.7/dist-packages (from pandas==1.3.5->tealang) (2022.5)\n",
            "Requirement already satisfied: certifi>=2017.4.17 in /usr/local/lib/python3.7/dist-packages (from requests==2.27.1->tealang) (2022.9.24)\n",
            "Requirement already satisfied: charset-normalizer~=2.0.0 in /usr/local/lib/python3.7/dist-packages (from requests==2.27.1->tealang) (2.0.12)\n",
            "Requirement already satisfied: idna<4,>=2.5 in /usr/local/lib/python3.7/dist-packages (from requests==2.27.1->tealang) (2.10)\n",
            "Requirement already satisfied: threadpoolctl>=2.0.0 in /usr/local/lib/python3.7/dist-packages (from scikit-learn==1.0.2->tealang) (3.1.0)\n",
            "Requirement already satisfied: joblib>=0.11 in /usr/local/lib/python3.7/dist-packages (from scikit-learn==1.0.2->tealang) (1.2.0)\n",
            "Requirement already satisfied: mpmath>=0.19 in /usr/local/lib/python3.7/dist-packages (from sympy==1.9->tealang) (1.2.1)\n",
            "Requirement already satisfied: pyparsing!=2.0.4,!=2.1.2,!=2.1.6,>=2.0.1 in /usr/local/lib/python3.7/dist-packages (from matplotlib>=1.5.3->bootstrapped==0.0.2->tealang) (3.0.9)\n",
            "Requirement already satisfied: kiwisolver>=1.0.1 in /usr/local/lib/python3.7/dist-packages (from matplotlib>=1.5.3->bootstrapped==0.0.2->tealang) (1.4.4)\n",
            "Requirement already satisfied: cycler>=0.10 in /usr/local/lib/python3.7/dist-packages (from matplotlib>=1.5.3->bootstrapped==0.0.2->tealang) (0.11.0)\n",
            "Requirement already satisfied: typing-extensions in /usr/local/lib/python3.7/dist-packages (from kiwisolver>=1.0.1->matplotlib>=1.5.3->bootstrapped==0.0.2->tealang) (4.1.1)\n",
            "Requirement already satisfied: six>=1.5 in /usr/local/lib/python3.7/dist-packages (from python-dateutil>=2.7.3->pandas==1.3.5->tealang) (1.15.0)\n",
            "Requirement already satisfied: patsy>=0.5 in /usr/local/lib/python3.7/dist-packages (from statsmodels<0.13.0,>=0.12.2->tealang) (0.5.3)\n"
          ]
        }
      ],
      "source": [
        "pip install tealang"
      ]
    },
    {
      "cell_type": "code",
      "source": [
        "import tea "
      ],
      "metadata": {
        "id": "gTw5qS_PwjV_"
      },
      "execution_count": null,
      "outputs": []
    },
    {
      "cell_type": "code",
      "source": [
        "from google.colab import files\n",
        "uploaded = files.upload()"
      ],
      "metadata": {
        "colab": {
          "base_uri": "https://localhost:8080/",
          "height": 74
        },
        "id": "skArA7n0_WaL",
        "outputId": "5dc39eec-b3fe-462e-e4bc-9d7a914b0d47"
      },
      "execution_count": null,
      "outputs": [
        {
          "output_type": "display_data",
          "data": {
            "text/plain": [
              "<IPython.core.display.HTML object>"
            ],
            "text/html": [
              "\n",
              "     <input type=\"file\" id=\"files-a55adbcb-868b-4bbe-affc-d4713d775518\" name=\"files[]\" multiple disabled\n",
              "        style=\"border:none\" />\n",
              "     <output id=\"result-a55adbcb-868b-4bbe-affc-d4713d775518\">\n",
              "      Upload widget is only available when the cell has been executed in the\n",
              "      current browser session. Please rerun this cell to enable.\n",
              "      </output>\n",
              "      <script>// Copyright 2017 Google LLC\n",
              "//\n",
              "// Licensed under the Apache License, Version 2.0 (the \"License\");\n",
              "// you may not use this file except in compliance with the License.\n",
              "// You may obtain a copy of the License at\n",
              "//\n",
              "//      http://www.apache.org/licenses/LICENSE-2.0\n",
              "//\n",
              "// Unless required by applicable law or agreed to in writing, software\n",
              "// distributed under the License is distributed on an \"AS IS\" BASIS,\n",
              "// WITHOUT WARRANTIES OR CONDITIONS OF ANY KIND, either express or implied.\n",
              "// See the License for the specific language governing permissions and\n",
              "// limitations under the License.\n",
              "\n",
              "/**\n",
              " * @fileoverview Helpers for google.colab Python module.\n",
              " */\n",
              "(function(scope) {\n",
              "function span(text, styleAttributes = {}) {\n",
              "  const element = document.createElement('span');\n",
              "  element.textContent = text;\n",
              "  for (const key of Object.keys(styleAttributes)) {\n",
              "    element.style[key] = styleAttributes[key];\n",
              "  }\n",
              "  return element;\n",
              "}\n",
              "\n",
              "// Max number of bytes which will be uploaded at a time.\n",
              "const MAX_PAYLOAD_SIZE = 100 * 1024;\n",
              "\n",
              "function _uploadFiles(inputId, outputId) {\n",
              "  const steps = uploadFilesStep(inputId, outputId);\n",
              "  const outputElement = document.getElementById(outputId);\n",
              "  // Cache steps on the outputElement to make it available for the next call\n",
              "  // to uploadFilesContinue from Python.\n",
              "  outputElement.steps = steps;\n",
              "\n",
              "  return _uploadFilesContinue(outputId);\n",
              "}\n",
              "\n",
              "// This is roughly an async generator (not supported in the browser yet),\n",
              "// where there are multiple asynchronous steps and the Python side is going\n",
              "// to poll for completion of each step.\n",
              "// This uses a Promise to block the python side on completion of each step,\n",
              "// then passes the result of the previous step as the input to the next step.\n",
              "function _uploadFilesContinue(outputId) {\n",
              "  const outputElement = document.getElementById(outputId);\n",
              "  const steps = outputElement.steps;\n",
              "\n",
              "  const next = steps.next(outputElement.lastPromiseValue);\n",
              "  return Promise.resolve(next.value.promise).then((value) => {\n",
              "    // Cache the last promise value to make it available to the next\n",
              "    // step of the generator.\n",
              "    outputElement.lastPromiseValue = value;\n",
              "    return next.value.response;\n",
              "  });\n",
              "}\n",
              "\n",
              "/**\n",
              " * Generator function which is called between each async step of the upload\n",
              " * process.\n",
              " * @param {string} inputId Element ID of the input file picker element.\n",
              " * @param {string} outputId Element ID of the output display.\n",
              " * @return {!Iterable<!Object>} Iterable of next steps.\n",
              " */\n",
              "function* uploadFilesStep(inputId, outputId) {\n",
              "  const inputElement = document.getElementById(inputId);\n",
              "  inputElement.disabled = false;\n",
              "\n",
              "  const outputElement = document.getElementById(outputId);\n",
              "  outputElement.innerHTML = '';\n",
              "\n",
              "  const pickedPromise = new Promise((resolve) => {\n",
              "    inputElement.addEventListener('change', (e) => {\n",
              "      resolve(e.target.files);\n",
              "    });\n",
              "  });\n",
              "\n",
              "  const cancel = document.createElement('button');\n",
              "  inputElement.parentElement.appendChild(cancel);\n",
              "  cancel.textContent = 'Cancel upload';\n",
              "  const cancelPromise = new Promise((resolve) => {\n",
              "    cancel.onclick = () => {\n",
              "      resolve(null);\n",
              "    };\n",
              "  });\n",
              "\n",
              "  // Wait for the user to pick the files.\n",
              "  const files = yield {\n",
              "    promise: Promise.race([pickedPromise, cancelPromise]),\n",
              "    response: {\n",
              "      action: 'starting',\n",
              "    }\n",
              "  };\n",
              "\n",
              "  cancel.remove();\n",
              "\n",
              "  // Disable the input element since further picks are not allowed.\n",
              "  inputElement.disabled = true;\n",
              "\n",
              "  if (!files) {\n",
              "    return {\n",
              "      response: {\n",
              "        action: 'complete',\n",
              "      }\n",
              "    };\n",
              "  }\n",
              "\n",
              "  for (const file of files) {\n",
              "    const li = document.createElement('li');\n",
              "    li.append(span(file.name, {fontWeight: 'bold'}));\n",
              "    li.append(span(\n",
              "        `(${file.type || 'n/a'}) - ${file.size} bytes, ` +\n",
              "        `last modified: ${\n",
              "            file.lastModifiedDate ? file.lastModifiedDate.toLocaleDateString() :\n",
              "                                    'n/a'} - `));\n",
              "    const percent = span('0% done');\n",
              "    li.appendChild(percent);\n",
              "\n",
              "    outputElement.appendChild(li);\n",
              "\n",
              "    const fileDataPromise = new Promise((resolve) => {\n",
              "      const reader = new FileReader();\n",
              "      reader.onload = (e) => {\n",
              "        resolve(e.target.result);\n",
              "      };\n",
              "      reader.readAsArrayBuffer(file);\n",
              "    });\n",
              "    // Wait for the data to be ready.\n",
              "    let fileData = yield {\n",
              "      promise: fileDataPromise,\n",
              "      response: {\n",
              "        action: 'continue',\n",
              "      }\n",
              "    };\n",
              "\n",
              "    // Use a chunked sending to avoid message size limits. See b/62115660.\n",
              "    let position = 0;\n",
              "    do {\n",
              "      const length = Math.min(fileData.byteLength - position, MAX_PAYLOAD_SIZE);\n",
              "      const chunk = new Uint8Array(fileData, position, length);\n",
              "      position += length;\n",
              "\n",
              "      const base64 = btoa(String.fromCharCode.apply(null, chunk));\n",
              "      yield {\n",
              "        response: {\n",
              "          action: 'append',\n",
              "          file: file.name,\n",
              "          data: base64,\n",
              "        },\n",
              "      };\n",
              "\n",
              "      let percentDone = fileData.byteLength === 0 ?\n",
              "          100 :\n",
              "          Math.round((position / fileData.byteLength) * 100);\n",
              "      percent.textContent = `${percentDone}% done`;\n",
              "\n",
              "    } while (position < fileData.byteLength);\n",
              "  }\n",
              "\n",
              "  // All done.\n",
              "  yield {\n",
              "    response: {\n",
              "      action: 'complete',\n",
              "    }\n",
              "  };\n",
              "}\n",
              "\n",
              "scope.google = scope.google || {};\n",
              "scope.google.colab = scope.google.colab || {};\n",
              "scope.google.colab._files = {\n",
              "  _uploadFiles,\n",
              "  _uploadFilesContinue,\n",
              "};\n",
              "})(self);\n",
              "</script> "
            ]
          },
          "metadata": {}
        },
        {
          "output_type": "stream",
          "name": "stdout",
          "text": [
            "Saving books_scraped.csv to books_scraped (1).csv\n"
          ]
        }
      ]
    },
    {
      "cell_type": "code",
      "source": [
        "import pandas as pd\n",
        "import io\n",
        "df = pd.read_csv(io.BytesIO(uploaded['books_scraped.csv']))\n",
        "# Dataset is now stored in a Pandas Dataframe"
      ],
      "metadata": {
        "id": "yWFm95t-QtK5"
      },
      "execution_count": null,
      "outputs": []
    },
    {
      "cell_type": "code",
      "source": [
        "#Tea accepts data either as a CSV or a Pandas DataFrame. \n",
        "#in our case we will work with a Pandas DataFrame \n",
        "tea.data(df)"
      ],
      "metadata": {
        "id": "Yoprfx7JPEnx"
      },
      "execution_count": null,
      "outputs": []
    },
    {
      "cell_type": "markdown",
      "source": [
        "## This notebook will be used to test the tea library that we initiated using the data set that includes 1000 books Each book has an own genre, star rating, and price. \n",
        "## what we would like to see in this notebook : \n",
        "1. If there is a correlation between the book's price and star rating,\n",
        "1. If there is a correlation between the book's Quantity and star rating,\n"
      ],
      "metadata": {
        "id": "x4AWGpwurFct"
      }
    },
    {
      "cell_type": "code",
      "source": [
        "df['Price'] "
      ],
      "metadata": {
        "colab": {
          "base_uri": "https://localhost:8080/"
        },
        "id": "O03a1ZGwJ8pU",
        "outputId": "53f54b6a-7e65-4ada-dac4-6ed669a3c423"
      },
      "execution_count": null,
      "outputs": [
        {
          "output_type": "execute_result",
          "data": {
            "text/plain": [
              "0      51.77\n",
              "1      53.74\n",
              "2      50.10\n",
              "3      47.82\n",
              "4      54.23\n",
              "       ...  \n",
              "995    55.53\n",
              "996    57.06\n",
              "997    16.97\n",
              "998    53.98\n",
              "999    26.08\n",
              "Name: Price, Length: 1000, dtype: float64"
            ]
          },
          "metadata": {},
          "execution_count": 30
        }
      ]
    },
    {
      "cell_type": "code",
      "source": [
        "df['Quantity']"
      ],
      "metadata": {
        "colab": {
          "base_uri": "https://localhost:8080/"
        },
        "id": "V1gkCzw0MVgK",
        "outputId": "20a4ccde-a6ac-4c55-b96f-cde11de510de"
      },
      "execution_count": null,
      "outputs": [
        {
          "output_type": "execute_result",
          "data": {
            "text/plain": [
              "0      22\n",
              "1      20\n",
              "2      20\n",
              "3      20\n",
              "4      20\n",
              "       ..\n",
              "995     1\n",
              "996     1\n",
              "997     1\n",
              "998     1\n",
              "999     1\n",
              "Name: Quantity, Length: 1000, dtype: int64"
            ]
          },
          "metadata": {},
          "execution_count": 31
        }
      ]
    },
    {
      "cell_type": "code",
      "source": [
        "df['Star_rating']"
      ],
      "metadata": {
        "colab": {
          "base_uri": "https://localhost:8080/"
        },
        "id": "7kVwvHxSKvCU",
        "outputId": "fd644df0-8d75-46a8-94a6-7e29c56706d9"
      },
      "execution_count": null,
      "outputs": [
        {
          "output_type": "execute_result",
          "data": {
            "text/plain": [
              "0      Three\n",
              "1        One\n",
              "2        One\n",
              "3       Four\n",
              "4       Five\n",
              "       ...  \n",
              "995      One\n",
              "996     Four\n",
              "997     Five\n",
              "998      One\n",
              "999     Five\n",
              "Name: Star_rating, Length: 1000, dtype: object"
            ]
          },
          "metadata": {},
          "execution_count": 32
        }
      ]
    },
    {
      "cell_type": "code",
      "source": [
        "df['Book_category']"
      ],
      "metadata": {
        "colab": {
          "base_uri": "https://localhost:8080/"
        },
        "id": "otAs2Uk6LbKC",
        "outputId": "3cdf910f-601e-4307-8185-25ff66daa872"
      },
      "execution_count": null,
      "outputs": [
        {
          "output_type": "execute_result",
          "data": {
            "text/plain": [
              "0                  Poetry\n",
              "1      Historical Fiction\n",
              "2                 Fiction\n",
              "3                 Mystery\n",
              "4                 History\n",
              "              ...        \n",
              "995              Classics\n",
              "996        Sequential Art\n",
              "997    Historical Fiction\n",
              "998               Mystery\n",
              "999                Travel\n",
              "Name: Book_category, Length: 1000, dtype: object"
            ]
          },
          "metadata": {},
          "execution_count": 33
        }
      ]
    },
    {
      "cell_type": "code",
      "source": [
        "#variable description\n",
        "variables = [\n",
        "    {\n",
        "        'name': 'Price',\n",
        "        'data type': 'ratio',\n",
        "    },\n",
        "    \n",
        "    {\n",
        "        'name': 'Star_rating',\n",
        "        'data type' : 'ordinal',\n",
        "        'categories' : ['One','Two','Three','Four','Five']\n",
        "    },\n",
        "    \n",
        "]"
      ],
      "metadata": {
        "id": "YhZbSxXYSmtb"
      },
      "execution_count": null,
      "outputs": []
    },
    {
      "cell_type": "code",
      "source": [
        "#Specifying an observational study\n",
        "study_design = {\n",
        "    'study type': 'observational study',\n",
        "    'contributor variables': 'Star_rating',\n",
        "    'outcome variables': 'Price',\n",
        "}"
      ],
      "metadata": {
        "id": "e5bmIz6-Ty7N"
      },
      "execution_count": null,
      "outputs": []
    },
    {
      "cell_type": "code",
      "source": [
        "#Describing a variable's statistical properties and alpha value.\n",
        "assumptions = {\n",
        "    'groups normally distributed': [['Star_rating', 'Price']],\n",
        "    'Type I (False Positive) Error Rate': 0.05,\n",
        "}\n",
        "#In strict mode, Tea will override user assumptions if they are determined unverifiable.\n",
        "tea.assume(assumptions, 'strict')\n"
      ],
      "metadata": {
        "colab": {
          "base_uri": "https://localhost:8080/"
        },
        "id": "DVnzPuJeXFnq",
        "outputId": "4ec9ab72-ace1-47f8-d78e-fb9066664673"
      },
      "execution_count": null,
      "outputs": [
        {
          "output_type": "stream",
          "name": "stdout",
          "text": [
            "\n",
            "Running under STRICT mode.\n",
            "\n"
          ]
        },
        {
          "output_type": "stream",
          "name": "stderr",
          "text": [
            "INFO:tea_logger:\n",
            "Running under STRICT mode.\n",
            "\n"
          ]
        },
        {
          "output_type": "stream",
          "name": "stdout",
          "text": [
            "This means that user assertions will be checked. Should they fail, Tea will override user assertions.\n",
            "\n"
          ]
        },
        {
          "output_type": "stream",
          "name": "stderr",
          "text": [
            "INFO:tea_logger:This means that user assertions will be checked. Should they fail, Tea will override user assertions.\n",
            "\n"
          ]
        }
      ]
    },
    {
      "cell_type": "code",
      "source": [
        "#Positive linear relationships\n",
        "tea.data(df,key='Book_category')\n",
        "tea.define_variables(variables)\n",
        "tea.define_study_design(study_design)\n",
        "tea.assume(assumptions)\n",
        "tea.hypothesize(['Price', 'Star_rating'], ['Star_rating ~ Price'])"
      ],
      "metadata": {
        "colab": {
          "base_uri": "https://localhost:8080/"
        },
        "id": "1TBq1w_MXiJz",
        "outputId": "030d1f15-5927-420b-95ff-c464f0c13462"
      },
      "execution_count": null,
      "outputs": [
        {
          "output_type": "stream",
          "name": "stdout",
          "text": [
            "\n",
            "Running under STRICT mode.\n",
            "\n"
          ]
        },
        {
          "output_type": "stream",
          "name": "stderr",
          "text": [
            "INFO:tea_logger:\n",
            "Running under STRICT mode.\n",
            "\n"
          ]
        },
        {
          "output_type": "stream",
          "name": "stdout",
          "text": [
            "This means that user assertions will be checked. Should they fail, Tea will override user assertions.\n",
            "\n"
          ]
        },
        {
          "output_type": "stream",
          "name": "stderr",
          "text": [
            "INFO:tea_logger:This means that user assertions will be checked. Should they fail, Tea will override user assertions.\n",
            "\n"
          ]
        },
        {
          "output_type": "stream",
          "name": "stdout",
          "text": [
            "\n",
            "\n",
            "Results:\n",
            "--------------\n",
            "Test: kendalltau_corr\n",
            "***Test assumptions:\n",
            "Exactly two variables involved in analysis: Star_rating, Price\n",
            "Continuous OR ORDINAL (not nominal) data: Star_rating\n",
            "Continuous OR ORDINAL (not nominal) data: Price\n",
            "\n",
            "***Test results:\n",
            "name = Kendall's Tau Correlation\n",
            "test_statistic = -0.01758\n",
            "p_value = 0.44715\n",
            "adjusted_p_value = 0.44715\n",
            "alpha = 0.05\n",
            "Null hypothesis = There is no relationship between Star_rating and Price.\n",
            "Interpretation = Fail to reject the null hypothesis at alpha = 0.05. There is no relationship between Star_rating and Price.\n",
            "\n",
            "Test: spearman_corr\n",
            "***Test assumptions:\n",
            "Exactly two variables involved in analysis: Star_rating, Price\n",
            "Continuous OR ORDINAL (not nominal) data: Star_rating\n",
            "Continuous OR ORDINAL (not nominal) data: Price\n",
            "\n",
            "***Test results:\n",
            "name = Spearman's R Correlation\n",
            "test_statistic = 0.02922\n",
            "p_value = 0.35605\n",
            "adjusted_p_value = 0.35605\n",
            "alpha = 0.05\n",
            "Null hypothesis = There is no monotonic relationship between Star_rating and Price.\n",
            "Interpretation = Fail to reject the null hypothesis at alpha = 0.05. There is no monotonic relationship between Star_rating and Price.\n",
            "\n",
            "Test: kruskall_wallis\n",
            "***Test assumptions:\n",
            "Independent (not paired) observations: Star_rating\n",
            "Exactly one explanatory variable: Star_rating\n",
            "Exactly one explained variable: Price\n",
            "Continuous (not categorical) data: Price\n",
            "Variable is categorical: Star_rating\n",
            "Variable has two or more categories: Star_rating\n",
            "\n",
            "***Test results:\n",
            "name = Kruskall Wallis\n",
            "test_statistic = 1.56420\n",
            "p_value = 0.81521\n",
            "adjusted_p_value = 0.81521\n",
            "alpha = 0.05\n",
            "dof = 226\n",
            "Null hypothesis = There is no difference in medians between Star_rating = One, Two, Three, Four, Five on Price.\n",
            "Interpretation = t(226) = 1.56420, p = 0.81521. Fail to reject the null hypothesis at alpha = 0.05. There is no difference in medians between Star_rating = One, Two, Three, Four, Five on Price.\n",
            "\n"
          ]
        },
        {
          "output_type": "execute_result",
          "data": {
            "text/plain": [
              "<tea.runtimeDataStructures.resultData.ResultData at 0x7f4fcaaa1c50>"
            ]
          },
          "metadata": {},
          "execution_count": 37
        }
      ]
    },
    {
      "cell_type": "code",
      "source": [
        "##variable description\n",
        "variables = [\n",
        "    \n",
        "    {\n",
        "        'name': 'Quantity',\n",
        "        'data type': 'numeric',\n",
        "    },\n",
        "    \n",
        "    {\n",
        "        'name': 'Star_rating',\n",
        "        'data type' : 'ordinal',\n",
        "        'categories' : ['One','Two','Three','Four','Five']\n",
        "    },\n",
        "    \n",
        "]"
      ],
      "metadata": {
        "id": "PZo3ZBYcs7ds"
      },
      "execution_count": null,
      "outputs": []
    },
    {
      "cell_type": "code",
      "source": [
        "##Specifying an observational study\n",
        "study_design = {\n",
        "    'study type': 'observational study',\n",
        "    'contributor variables': 'Quantity',\n",
        "    'outcome variables': 'Star_rating',\n",
        "}\n"
      ],
      "metadata": {
        "id": "VfaVVAl1dcxd"
      },
      "execution_count": null,
      "outputs": []
    },
    {
      "cell_type": "code",
      "source": [
        "#Describing a variable's statistical properties and alpha value \n",
        "assumptions = {\n",
        "    'groups normally distributed': [['Star_rating', 'Quantity']],\n",
        "    'Type I (False Positive) Error Rate': 0.01,\n",
        "}\n",
        "tea.assume(assumptions, 'relaxed')"
      ],
      "metadata": {
        "colab": {
          "base_uri": "https://localhost:8080/"
        },
        "id": "xtUsVUppv86X",
        "outputId": "ef376f46-f7e4-4f30-da16-61761514c6b6"
      },
      "execution_count": null,
      "outputs": [
        {
          "output_type": "stream",
          "name": "stdout",
          "text": [
            "\n",
            "Running under RELAXED mode.\n",
            "\n"
          ]
        },
        {
          "output_type": "stream",
          "name": "stderr",
          "text": [
            "INFO:tea_logger:\n",
            "Running under RELAXED mode.\n",
            "\n"
          ]
        },
        {
          "output_type": "stream",
          "name": "stdout",
          "text": [
            "This means that user assertions will be checked. Should they fail, Tea will issue a warning but proceed as if user's assertions were true.\n"
          ]
        },
        {
          "output_type": "stream",
          "name": "stderr",
          "text": [
            "INFO:tea_logger:This means that user assertions will be checked. Should they fail, Tea will issue a warning but proceed as if user's assertions were true.\n"
          ]
        }
      ]
    },
    {
      "cell_type": "code",
      "source": [
        "#Positive linear relationships\n",
        "tea.data(df,key='Book_category')\n",
        "tea.define_variables(variables)\n",
        "tea.define_study_design(study_design)\n",
        "tea.assume(assumptions)\n",
        "tea.hypothesize(['Quantity', 'Star_rating'], ['Star_rating ~ Quantity'])"
      ],
      "metadata": {
        "colab": {
          "base_uri": "https://localhost:8080/"
        },
        "id": "KJhqj6AUwCtr",
        "outputId": "41d14736-4fb8-47c6-ef2c-0d146319e822"
      },
      "execution_count": null,
      "outputs": [
        {
          "output_type": "stream",
          "name": "stdout",
          "text": [
            "\n",
            "Running under STRICT mode.\n",
            "\n"
          ]
        },
        {
          "output_type": "stream",
          "name": "stderr",
          "text": [
            "INFO:tea_logger:\n",
            "Running under STRICT mode.\n",
            "\n"
          ]
        },
        {
          "output_type": "stream",
          "name": "stdout",
          "text": [
            "This means that user assertions will be checked. Should they fail, Tea will override user assertions.\n",
            "\n"
          ]
        },
        {
          "output_type": "stream",
          "name": "stderr",
          "text": [
            "INFO:tea_logger:This means that user assertions will be checked. Should they fail, Tea will override user assertions.\n",
            "\n"
          ]
        },
        {
          "output_type": "stream",
          "name": "stdout",
          "text": [
            "\n",
            "\n",
            "Results:\n",
            "--------------\n",
            "Test: kendalltau_corr\n",
            "***Test assumptions:\n",
            "Exactly two variables involved in analysis: Quantity, Star_rating\n",
            "Continuous OR ORDINAL (not nominal) data: Quantity\n",
            "Continuous OR ORDINAL (not nominal) data: Star_rating\n",
            "\n",
            "***Test results:\n",
            "name = Kendall's Tau Correlation\n",
            "test_statistic = -0.00712\n",
            "p_value = 0.76833\n",
            "adjusted_p_value = 0.76833\n",
            "alpha = 0.01\n",
            "Null hypothesis = There is no relationship between Star_rating and Quantity.\n",
            "Interpretation = Fail to reject the null hypothesis at alpha = 0.01. There is no relationship between Star_rating and Quantity.\n",
            "\n",
            "Test: spearman_corr\n",
            "***Test assumptions:\n",
            "Exactly two variables involved in analysis: Quantity, Star_rating\n",
            "Continuous OR ORDINAL (not nominal) data: Quantity\n",
            "Continuous OR ORDINAL (not nominal) data: Star_rating\n",
            "\n",
            "***Test results:\n",
            "name = Spearman's R Correlation\n",
            "test_statistic = 0.01923\n",
            "p_value = 0.54361\n",
            "adjusted_p_value = 0.54361\n",
            "alpha = 0.01\n",
            "Null hypothesis = There is no monotonic relationship between Star_rating and Quantity.\n",
            "Interpretation = Fail to reject the null hypothesis at alpha = 0.01. There is no monotonic relationship between Star_rating and Quantity.\n",
            "\n"
          ]
        },
        {
          "output_type": "execute_result",
          "data": {
            "text/plain": [
              "<tea.runtimeDataStructures.resultData.ResultData at 0x7ff97ead7850>"
            ]
          },
          "metadata": {},
          "execution_count": 61
        }
      ]
    },
    {
      "cell_type": "code",
      "source": [],
      "metadata": {
        "id": "AQnzA3AZwLs6"
      },
      "execution_count": null,
      "outputs": []
    }
  ]
}